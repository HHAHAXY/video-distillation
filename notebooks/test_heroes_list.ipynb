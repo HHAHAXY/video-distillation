{
 "cells": [
  {
   "cell_type": "code",
   "execution_count": 6,
   "metadata": {},
   "outputs": [],
   "source": [
    "import json\n",
    "import subprocess\n"
   ]
  },
  {
   "cell_type": "code",
   "execution_count": 8,
   "metadata": {},
   "outputs": [
    {
     "name": "stderr",
     "output_type": "stream",
     "text": [
      "--2025-03-09 22:25:14--  https://www.dota2.com/datafeed/herolist?language=english\n",
      "Распознаётся www.dota2.com (www.dota2.com)… 172.64.151.110, 104.18.36.146\n",
      "Подключение к www.dota2.com (www.dota2.com)|172.64.151.110|:443... соединение установлено.\n",
      "HTTP-запрос отправлен. Ожидание ответа… 200 OK\n",
      "Длина: нет данных [application/json]\n",
      "Сохранение в: «herolist?language=english»\n",
      "\n",
      "     0K .......... .....                                       1,72M=0,009s\n",
      "\n",
      "2025-03-09 22:25:15 (1,72 MB/s) - «herolist?language=english» сохранён [16307]\n",
      "\n"
     ]
    },
    {
     "data": {
      "text/plain": [
       "CompletedProcess(args=['wget', 'https://www.dota2.com/datafeed/herolist?language=english'], returncode=0)"
      ]
     },
     "execution_count": 8,
     "metadata": {},
     "output_type": "execute_result"
    }
   ],
   "source": [
    "subprocess.run([\"wget\", \"https://www.dota2.com/datafeed/herolist?language=english\"])"
   ]
  },
  {
   "cell_type": "code",
   "execution_count": null,
   "metadata": {},
   "outputs": [],
   "source": []
  }
 ],
 "metadata": {
  "kernelspec": {
   "display_name": "whisper",
   "language": "python",
   "name": "python3"
  },
  "language_info": {
   "codemirror_mode": {
    "name": "ipython",
    "version": 3
   },
   "file_extension": ".py",
   "mimetype": "text/x-python",
   "name": "python",
   "nbconvert_exporter": "python",
   "pygments_lexer": "ipython3",
   "version": "3.9.21"
  }
 },
 "nbformat": 4,
 "nbformat_minor": 2
}
